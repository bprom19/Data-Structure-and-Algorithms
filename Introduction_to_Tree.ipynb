{
  "nbformat": 4,
  "nbformat_minor": 0,
  "metadata": {
    "colab": {
      "provenance": [],
      "collapsed_sections": [],
      "authorship_tag": "ABX9TyMxF0smTaIv8T/lDs7uDawE",
      "include_colab_link": true
    },
    "kernelspec": {
      "name": "python3",
      "display_name": "Python 3"
    },
    "language_info": {
      "name": "python"
    }
  },
  "cells": [
    {
      "cell_type": "markdown",
      "metadata": {
        "id": "view-in-github",
        "colab_type": "text"
      },
      "source": [
        "<a href=\"https://colab.research.google.com/github/bprom19/Data-Structure-and-Algorithms/blob/main/Introduction_to_Tree.ipynb\" target=\"_parent\"><img src=\"https://colab.research.google.com/assets/colab-badge.svg\" alt=\"Open In Colab\"/></a>"
      ]
    },
    {
      "cell_type": "code",
      "execution_count": null,
      "metadata": {
        "colab": {
          "base_uri": "https://localhost:8080/"
        },
        "id": "Eny9ige2WUbv",
        "outputId": "0f8d8232-6a30-4e24-912e-198fde2ec4f5"
      },
      "outputs": [
        {
          "output_type": "stream",
          "name": "stdout",
          "text": [
            "Bakhann's Tree\n",
            "5\n",
            "10000\n"
          ]
        }
      ],
      "source": [
        "import pandas as pd\n",
        "import pydotplus #pip install pydotplus\n",
        "from sklearn.tree import export_graphviz\n",
        "from sklearn.tree import DecisionTreeClassifier\n",
        "import numpy as np\n",
        "\n",
        "\n",
        "class Node:\n",
        "  def __init__(self, data):\n",
        "    self.data = data\n",
        "    self.lef = None\n",
        "    self.right = None\n",
        "\n",
        "class Tree:\n",
        "  def __init__(self, root, name = ''):\n",
        "    self.root = root\n",
        "    self.name = name\n",
        "\n",
        "\n",
        "node = Node(10)\n",
        "\n",
        "node.left = Node(5)\n",
        "node.right = Node(15)\n",
        "\n",
        "node.left.left = Node(2)\n",
        "node.left.right = Node(6)\n",
        "\n",
        "node.right.left = Node(13)\n",
        "node.right.right = Node(10000)\n",
        "\n",
        "myTree = Tree(node, 'Bakhann\\'s Tree')\n",
        "\n",
        "print(myTree.name)\n",
        "print(myTree.root.left.data)\n",
        "print(myTree.root.right.right.data)\n"
      ]
    }
  ]
}